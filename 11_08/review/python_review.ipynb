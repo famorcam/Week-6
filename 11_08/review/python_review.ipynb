{
 "cells": [
  {
   "cell_type": "markdown",
   "metadata": {},
   "source": [
    "# Q1\n",
    "\n",
    "Create a function that takes in a string that represents a filename, and returns the [extension](https://en.wikipedia.org/wiki/Filename_extension) of this filename.\n",
    "\n",
    "Utilize the string [documentation](https://docs.python.org/3/library/string.html) to assist you in this."
   ]
  },
  {
   "cell_type": "code",
   "execution_count": 1,
   "metadata": {},
   "outputs": [],
   "source": [
    "def get_extension(file):\n",
    "    split_file = file.split('.')\n",
    "    return split_file[1]"
   ]
  },
  {
   "cell_type": "code",
   "execution_count": 2,
   "metadata": {},
   "outputs": [
    {
     "name": "stdout",
     "output_type": "stream",
     "text": [
      "csv\n",
      "csv\n",
      "txt\n",
      "py\n"
     ]
    }
   ],
   "source": [
    "## TEST CODE: Use this code-block to check if your code works. It should print out each extension\n",
    "files = [\"test.csv\", \"data.csv\", \"data.txt\", \"functions.py\"]\n",
    "\n",
    "# print out extension of each file\n",
    "for f in files:\n",
    "    result = get_extension(f)\n",
    "    print(result)"
   ]
  },
  {
   "cell_type": "markdown",
   "metadata": {},
   "source": [
    "# Q2\n",
    "\n",
    "Create a program that takes two numbers from a user (input) and calculates their sum and difference. Recall that we can take input in via the `input()` function.\n",
    "\n",
    "**Example**\n",
    "```\n",
    "Input first number: 10\n",
    "Input second number: 5\n",
    "\n",
    "sum: 15\n",
    "difference: 5\n",
    "```"
   ]
  },
  {
   "cell_type": "code",
   "execution_count": 34,
   "metadata": {},
   "outputs": [
    {
     "name": "stdout",
     "output_type": "stream",
     "text": [
      "15\n",
      "5\n"
     ]
    }
   ],
   "source": [
    "def user_sum_diff():\n",
    "    num1 = int(input(\"Enter 1st number:\"))\n",
    "    num2 = int(input(\"Enter 2nd number:\"))\n",
    "    print(num1 + num2)\n",
    "    print(num1 - num2)\n",
    "\n",
    "user_sum_diff()"
   ]
  },
  {
   "cell_type": "markdown",
   "metadata": {},
   "source": [
    "# Q3\n",
    "\n",
    "Create a function that takes in an integer, and returns the [factorial](https://en.wikipedia.org/wiki/Factorial) of this integer. "
   ]
  },
  {
   "cell_type": "code",
   "execution_count": 22,
   "metadata": {},
   "outputs": [],
   "source": [
    "def fact(n):\n",
    "    while n != 0:\n",
    "        ans = \n",
    "        ans = n * (n-1)\n",
    "        n-=1\n",
    "    return ans"
   ]
  },
  {
   "cell_type": "code",
   "execution_count": 23,
   "metadata": {},
   "outputs": [
    {
     "name": "stdout",
     "output_type": "stream",
     "text": [
      "0\n",
      "0\n"
     ]
    }
   ],
   "source": [
    "## TEST CODE: Use this code-block to check if your code works.\n",
    "# This function call should print out \"120\"\n",
    "print(fact(5))\n",
    "\n",
    "# this function call should print out \"720\"\n",
    "print(fact(6))"
   ]
  },
  {
   "cell_type": "markdown",
   "metadata": {},
   "source": [
    "# Q4\n",
    "\n",
    "Create a function that takes in an integer called `n` and returns `n` hashtags (or pound symbols). "
   ]
  },
  {
   "cell_type": "code",
   "execution_count": 12,
   "metadata": {},
   "outputs": [],
   "source": [
    "def hash_print(n):\n",
    "    hastags = n * '#'    \n",
    "    return hastags"
   ]
  },
  {
   "cell_type": "code",
   "execution_count": 13,
   "metadata": {},
   "outputs": [
    {
     "name": "stdout",
     "output_type": "stream",
     "text": [
      "###\n",
      "##########\n"
     ]
    }
   ],
   "source": [
    "## TEST CODE: Use this code-block to check if your code works. \n",
    "# This function call should print out \"###\"\n",
    "print(hash_print(3))\n",
    "\n",
    "# This function call should print out \"##########\"\n",
    "print(hash_print(10))"
   ]
  }
 ],
 "metadata": {
  "kernelspec": {
   "display_name": "Python 3",
   "language": "python",
   "name": "python3"
  },
  "language_info": {
   "codemirror_mode": {
    "name": "ipython",
    "version": 3
   },
   "file_extension": ".py",
   "mimetype": "text/x-python",
   "name": "python",
   "nbconvert_exporter": "python",
   "pygments_lexer": "ipython3",
   "version": "3.9.18"
  }
 },
 "nbformat": 4,
 "nbformat_minor": 2
}
