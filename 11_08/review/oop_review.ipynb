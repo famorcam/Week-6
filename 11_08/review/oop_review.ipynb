{
 "cells": [
  {
   "cell_type": "markdown",
   "metadata": {},
   "source": [
    "# Q1\n",
    "\n",
    "We will be using the already created Fellow class below. The following questions will require you to modify the class code in order to create a properly functioning class.\n",
    "\n",
    "For each prompt, write down what you need to change, and then implement it within the actual code block.\n",
    "\n",
    "The test code is located within this code block. Run it to validate that you have a properly working class."
   ]
  },
  {
   "cell_type": "code",
   "execution_count": null,
   "metadata": {},
   "outputs": [],
   "source": [
    "class Fellow:\n",
    "    \"\"\"Class to describe a fellow\n",
    "\n",
    "\tAttributes\n",
    "\t—---------\n",
    "    name : str\n",
    "        Name to represent fellow\n",
    "    track : str\n",
    "        Track that fellow is on\n",
    "    familiars : list\n",
    "        List of people this fellow is familair with\n",
    "\n",
    "\tMethods\n",
    "\t—------\n",
    "    in_common(other_fellow):\n",
    "        Returns a list of in_common familiars with the \"other_fellow\" object\n",
    "    \"\"\"\n",
    "    ## Q1 What am I missing from this parameter list?\n",
    "    def __init__(name, track, familiars=[]):\n",
    "        ## Q2 What am i missing from this __init__ code\n",
    "        name = name\n",
    "        track = track\n",
    "        familiars = familiars\n",
    "\n",
    "    ## Q3 What am I missing from this parameter list? \n",
    "    ## Note: We need this parameter to compare our familairs with the \"other_fellow\" familiars\n",
    "    def in_common(self):\n",
    "        common = []\n",
    "        ## Q4 What am I missing from this for-loop to ensure that we are working with the correct \"familairs\"?\n",
    "        for person in familiars:\n",
    "            if person in other_fellow.familiars:\n",
    "                common.append(person)\n",
    "        \n",
    "        return common\n",
    "\n",
    "alfo =  Fellow(\"Alfonso\", \"DS\", [\"Felipe\"])\n",
    "felip =  Fellow(\"Felipe\", \"DS\", [\"Alfonso\"])\n",
    "gustav =  Fellow(\"Gustavo\", \"DS\", [])\n",
    "\n",
    "## Q5 How can I fix this to see who Alfonso has in common with Gustavo?\n",
    "print(in_common(alfo, gustav))"
   ]
  },
  {
   "cell_type": "markdown",
   "metadata": {},
   "source": [
    "# Q2\n",
    "\n",
    "This class will take in two numbers (ints or floats), and will allow us to add, subtract, multiply, and divide.\n",
    "\n",
    "The docstring was handed down to you from another programmer, so all you need to implement is the:\n",
    "\n",
    "__init__ method, which will take in two numbers\n",
    "add() method, which will calculate the sum\n",
    "subtract() method, which will calculate the difference\n",
    "multiply() method, which will calculate the product\n",
    "divide() method which will calculate the quotient.\n",
    "pow() method, which will exponentiate the first number by the second number.\n",
    "Modify the code-block below to complete this section of the lab.\n",
    "\n",
    "Use the code-block underneath this block to test your code."
   ]
  },
  {
   "cell_type": "code",
   "execution_count": null,
   "metadata": {},
   "outputs": [],
   "source": [
    "class Calculator:\n",
    "    ..."
   ]
  },
  {
   "cell_type": "code",
   "execution_count": null,
   "metadata": {},
   "outputs": [],
   "source": [
    "## TEST CODE: Use this code-block to check if your code works. \n",
    "\n",
    "test = Calculator(10, 20)\n",
    "\n",
    "# this should print out \"30\"\n",
    "print(test.add())\n",
    "\n",
    "# this should print out \"-10\"\n",
    "print(test.subtract())\n",
    "\n",
    "# this should print out \"200\"\n",
    "print(test.multiply())\n",
    "\n",
    "# this should print out \"0.5\"\n",
    "print(test.divide())\n",
    "\n",
    "# this should print out \"100000000000000000000\"\n",
    "print(test.pow())"
   ]
  }
 ],
 "metadata": {
  "language_info": {
   "name": "python"
  }
 },
 "nbformat": 4,
 "nbformat_minor": 2
}
